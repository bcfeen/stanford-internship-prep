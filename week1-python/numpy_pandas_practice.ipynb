{
 "cells": [
  {
   "cell_type": "code",
   "execution_count": 1,
   "id": "87e2a0e5-89ad-439c-b563-7d516844596a",
   "metadata": {},
   "outputs": [
    {
     "name": "stdout",
     "output_type": "stream",
     "text": [
      "Array: [ 1  2  3  4  5  6  7  8  9 10]\n",
      "Mean: 5.5\n",
      "Median: 5.5\n",
      "Standard Deviation: 2.8722813232690143\n",
      "Squared: [  1   4   9  16  25  36  49  64  81 100]\n"
     ]
    }
   ],
   "source": [
    "import numpy as np\n",
    "\n",
    "# Create an array of numbers from 1 to 10\n",
    "arr = np.array(range(1, 11))\n",
    "\n",
    "# Print the array\n",
    "print(\"Array:\", arr)\n",
    "\n",
    "# Print the mean, median, and standard deviation\n",
    "print(\"Mean:\", np.mean(arr))\n",
    "print(\"Median:\", np.median(arr))\n",
    "print(\"Standard Deviation:\", np.std(arr))\n",
    "\n",
    "# Print the squared values\n",
    "print(\"Squared:\", arr ** 2)\n"
   ]
  },
  {
   "cell_type": "code",
   "execution_count": 3,
   "id": "3c8335de-d378-4aa9-b0dc-85da71c533cc",
   "metadata": {},
   "outputs": [
    {
     "name": "stdout",
     "output_type": "stream",
     "text": [
      "  Student  Score\n",
      "0    Anna     88\n",
      "1    Liam     92\n",
      "2    Noah     79\n",
      "3     Mia     85\n",
      "4     Zoe     95\n",
      "Average: 87.8\n",
      "Top students:\n",
      "   Student  Score\n",
      "1    Liam     92\n",
      "4     Zoe     95\n"
     ]
    }
   ],
   "source": [
    "import pandas as pd\n",
    "\n",
    "# Create a DataFrame with students + test scores\n",
    "data = {\n",
    "    \"Student\": [\"Anna\", \"Liam\", \"Noah\", \"Mia\", \"Zoe\"],\n",
    "    \"Score\": [88, 92, 79, 85, 95]\n",
    "}\n",
    "\n",
    "df = pd.DataFrame(data)\n",
    "\n",
    "# Print the DataFrame\n",
    "print(df)\n",
    "\n",
    "# Print the average score\n",
    "print(\"Average:\", df[\"Score\"].mean())\n",
    "\n",
    "# Filter and print students with scores > 90\n",
    "print(\"Top students:\\n\", df[df[\"Score\"] > 90])\n"
   ]
  },
  {
   "cell_type": "code",
   "execution_count": null,
   "id": "a0213c35-8b76-4405-a0e5-bbaa3ba8e2f5",
   "metadata": {},
   "outputs": [],
   "source": []
  }
 ],
 "metadata": {
  "kernelspec": {
   "display_name": "Python [conda env:base] *",
   "language": "python",
   "name": "conda-base-py"
  },
  "language_info": {
   "codemirror_mode": {
    "name": "ipython",
    "version": 3
   },
   "file_extension": ".py",
   "mimetype": "text/x-python",
   "name": "python",
   "nbconvert_exporter": "python",
   "pygments_lexer": "ipython3",
   "version": "3.12.7"
  }
 },
 "nbformat": 4,
 "nbformat_minor": 5
}
