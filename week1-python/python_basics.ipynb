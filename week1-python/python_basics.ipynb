{
 "cells": [
  {
   "cell_type": "code",
   "execution_count": 1,
   "id": "459498c0-d891-43ca-8963-1373e32734d9",
   "metadata": {},
   "outputs": [
    {
     "name": "stdout",
     "output_type": "stream",
     "text": [
      "Hello Stanford 💻\n",
      "2 + 2 = 4\n"
     ]
    }
   ],
   "source": [
    "print(\"Hello Stanford 💻\")\n",
    "print(\"2 + 2 =\", 2 + 2)\n"
   ]
  },
  {
   "cell_type": "code",
   "execution_count": 3,
   "id": "36c1fb94-35ad-4adf-82f1-ca3c964c667d",
   "metadata": {},
   "outputs": [
    {
     "name": "stdout",
     "output_type": "stream",
     "text": [
      "Evelyn is 21 years old and 5.7 feet tall.\n"
     ]
    }
   ],
   "source": [
    "name = \"Evelyn\"\n",
    "age = 21\n",
    "height = 5.7\n",
    "\n",
    "print(name, \"is\", age, \"years old and\", height, \"feet tall.\")\n"
   ]
  },
  {
   "cell_type": "code",
   "execution_count": 5,
   "id": "f8ea64dd-4219-4727-9e17-567d5bc833ee",
   "metadata": {},
   "outputs": [
    {
     "name": "stdout",
     "output_type": "stream",
     "text": [
      "1\n",
      "4\n",
      "9\n",
      "16\n",
      "25\n"
     ]
    }
   ],
   "source": [
    "numbers = [1, 2, 3, 4, 5]\n",
    "for num in numbers:\n",
    "    print(num * num)"
   ]
  },
  {
   "cell_type": "code",
   "execution_count": 7,
   "id": "bd34e559-49ef-4a5d-89dc-96207ed4036c",
   "metadata": {},
   "outputs": [
    {
     "name": "stdout",
     "output_type": "stream",
     "text": [
      "Yo Gabriel 👋\n"
     ]
    }
   ],
   "source": [
    "def greet(person):\n",
    "    return \"Yo \" + person + \" 👋\"\n",
    "\n",
    "print(greet(\"Gabriel\"))\n"
   ]
  },
  {
   "cell_type": "code",
   "execution_count": 10,
   "id": "0c816815-0c13-4d9f-8981-4146ca4c8fbf",
   "metadata": {},
   "outputs": [
    {
     "data": {
      "image/png": "[encoded data removed]",
      "text/plain": [
       "<Figure size 640x480 with 1 Axes>"
      ]
     },
     "metadata": {},
     "output_type": "display_data"
    }
   ],
   "source": [
    "import matplotlib.pyplot as plt\n",
    "\n",
    "x = [0, 1, 2, 3, 4]\n",
    "y = [i**2 for i in x]\n",
    "\n",
    "plt.plot(x, y)\n",
    "plt.title(\"Simple Plot\")\n",
    "plt.xlabel(\"x\")\n",
    "plt.ylabel(\"y\")\n",
    "plt.show()\n"
   ]
  },
  {
   "cell_type": "code",
   "execution_count": 14,
   "id": "9410fa03-e997-4a6a-85d6-991fe9e3cd9b",
   "metadata": {},
   "outputs": [
    {
     "name": "stdin",
     "output_type": "stream",
     "text": [
      "Enter a number:  13\n"
     ]
    },
    {
     "name": "stdout",
     "output_type": "stream",
     "text": [
      "Result: 2197\n"
     ]
    }
   ],
   "source": [
    "#Exercise 1: Define a function that takes a number, squares it if its even, cubes it if odd.\n",
    "def process_number(num):\n",
    "    if num % 2 == 0:\n",
    "        return num**2\n",
    "    else: \n",
    "        return num**3\n",
    "\n",
    "num = int(input(\"Enter a number: \"))\n",
    "result = process_number(num)\n",
    "print(\"Result:\", result)\n"
   ]
  },
  {
   "cell_type": "code",
   "execution_count": 24,
   "id": "7e6cb5c5-588e-4888-a52a-13220d7bc929",
   "metadata": {},
   "outputs": [
    {
     "name": "stdout",
     "output_type": "stream",
     "text": [
      "1\n",
      "2\n",
      "3\n",
      "Boom!!\n",
      "5\n",
      "6\n",
      "7\n",
      "Boom!!\n",
      "9\n",
      "10\n",
      "11\n",
      "Boom!!\n",
      "13\n",
      "14\n",
      "15\n",
      "Boom!!\n",
      "17\n",
      "18\n",
      "19\n",
      "Boom!!\n"
     ]
    }
   ],
   "source": [
    "#Exercise 2: Write program that loops from 1–20, prints \"Boom\" for nums divisible by 4, Prints number otherwise\n",
    "\n",
    "for x in range(1, 21):\n",
    "    if x % 4 == 0:\n",
    "        print(\"Boom!!\")\n",
    "    else:\n",
    "        print(x)"
   ]
  },
  {
   "cell_type": "code",
   "execution_count": 32,
   "id": "636ae9a4-91b4-46db-9fe6-a5471afd0bd2",
   "metadata": {},
   "outputs": [
    {
     "name": "stdout",
     "output_type": "stream",
     "text": [
      "92\n",
      "99\n",
      "88\n",
      "91\n"
     ]
    }
   ],
   "source": [
    "# Exercise 3: With list of grades, print only the ones above 85.\n",
    "\n",
    "for x in [92, 85, 78, 99, 88, 73, 91]:\n",
    "    if x > 85:\n",
    "        print(x)"
   ]
  },
  {
   "cell_type": "code",
   "execution_count": 40,
   "id": "6fe2c7a6-2546-4fae-83fc-5221afb44444",
   "metadata": {},
   "outputs": [
    {
     "name": "stdout",
     "output_type": "stream",
     "text": [
      "92\n",
      "99\n",
      "88\n",
      "91\n",
      "Number of grades above 85: 4\n",
      "Average of grades above 85: 92.5\n"
     ]
    }
   ],
   "source": [
    "# Bonus Ex. 3: Count the number of grades above 85, then average them.\n",
    "\n",
    "grades = [92, 85, 78, 99, 88, 73, 91]\n",
    "count = 0 #initialize counter\n",
    "total = 0\n",
    "\n",
    "for x in grades:\n",
    "    if x > 85:\n",
    "        print(x)\n",
    "        count += 1\n",
    "        total += x\n",
    "\n",
    "print (f\"Number of grades above 85: {count}\")\n",
    "\n",
    "if count > 0:\n",
    "    average = total / count\n",
    "    print(f\"Average of grades above 85: {average}\")\n",
    "else:\n",
    "    print(\"No grades above 85.\")"
   ]
  },
  {
   "cell_type": "code",
   "execution_count": null,
   "id": "296dedd7-bfbb-4562-993b-070743fded41",
   "metadata": {},
   "outputs": [],
   "source": []
  }
 ],
 "metadata": {
  "kernelspec": {
   "display_name": "Python [conda env:base] *",
   "language": "python",
   "name": "conda-base-py"
  },
  "language_info": {
   "codemirror_mode": {
    "name": "ipython",
    "version": 3
   },
   "file_extension": ".py",
   "mimetype": "text/x-python",
   "name": "python",
   "nbconvert_exporter": "python",
   "pygments_lexer": "ipython3",
   "version": "3.12.7"
  }
 },
 "nbformat": 4,
 "nbformat_minor": 5
}
